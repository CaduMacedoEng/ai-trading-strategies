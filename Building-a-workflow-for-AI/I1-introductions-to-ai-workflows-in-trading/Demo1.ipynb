{
 "cells": [
  {
   "cell_type": "code",
   "execution_count": null,
   "id": "9d77f9d0-3b81-4af3-9047-208559981544",
   "metadata": {
    "scrolled": true
   },
   "outputs": [],
   "source": [
    "pip install --upgrade matplotlib"
   ]
  },
  {
   "cell_type": "code",
   "execution_count": 1,
   "id": "d3e2b615-85c3-4411-9019-0e678b082c87",
   "metadata": {},
   "outputs": [
    {
     "name": "stderr",
     "output_type": "stream",
     "text": [
      "[*********************100%***********************]  1 of 2 completed\n",
      "\n",
      "2 Failed downloads:\n",
      "['MSFT', 'AAPL']: JSONDecodeError('Expecting value: line 1 column 1 (char 0)')\n",
      "[*********************100%***********************]  1 of 2 completed"
     ]
    }
   ],
   "source": [
    "# Import yfinance library\n",
    "import yfinance as yf\n",
    "import pandas as pd\n",
    "import matplotlib.pyplot as plt\n",
    "import numpy as np\n",
    "\n",
    "# Define the start and end dates\n",
    "start_date = '2024-04-01'\n",
    "end_date = '2024-05-01'\n",
    "\n",
    "# Define the list of tickers\n",
    "tickers = ['AAPL', 'MSFT']\n",
    "\n",
    "historical_prices = yf.download(tickers, start=start_date, end=end_date)"
   ]
  },
  {
   "cell_type": "code",
   "execution_count": null,
   "id": "25e70444-743e-4cda-a844-31e49b65d670",
   "metadata": {},
   "outputs": [],
   "source": [
    "print(historical_prices.columns)"
   ]
  },
  {
   "cell_type": "code",
   "execution_count": 2,
   "id": "9f4bef69-54e7-44cb-939e-54f581034c43",
   "metadata": {},
   "outputs": [],
   "source": [
    "import pandas as pd\n",
    "\n",
    "# Define the list of tickers\n",
    "sp500_tickers = pd.read_html('https://en.wikipedia.org/wiki/List_of_S%26P_500_companies')[0]['Symbol'].to_list()\n",
    "\n",
    "# Filter out Class B shares that have '.B' in the ticker name\n",
    "sp500_tickers = [ticker for ticker in sp500_tickers if '.B' not in ticker]"
   ]
  },
  {
   "cell_type": "code",
   "execution_count": 3,
   "id": "aba3c50e-ba65-4f57-a1ae-051ab4aff1c0",
   "metadata": {},
   "outputs": [
    {
     "name": "stderr",
     "output_type": "stream",
     "text": [
      "[*********************100%***********************]  500 of 500 completed\n",
      "\n",
      "101 Failed downloads:\n",
      "['CAT', 'HSY', 'GEHC', 'SNPS', 'VMC', 'SWKS', 'MAA', 'LH', 'OKE', 'MRK', 'BALL', 'AMAT', 'JPM', 'ORCL', 'ABT', 'PAYC', 'BSX', 'TYL', 'TEL', 'AOS', 'UHS', 'DHI', 'DGX', 'WMT', 'KIM', 'AMCR', 'STE', 'NEM', 'SBAC', 'NFLX', 'NWSA', 'ENPH', 'MKC', 'CVX', 'IVZ', 'CB', 'DELL', 'MGM', 'EQT', 'CMS', 'SHW', 'ATO', 'ROST', 'AFL', 'BBY', 'LRCX', 'CPRT', 'CHD', 'HIG', 'EMR', 'TPR', 'CAH', 'SPGI', 'JCI', 'CME', 'EXPE', 'JBL', 'SNA', 'ES', 'APTV', 'STZ', 'F', 'SMCI', 'CHTR', 'PPL', 'VTRS', 'COST', 'WM', 'TT', 'MHK', 'VRSK', 'LYV', 'URI', 'NOC', 'HRL', 'FFIV', 'HPE', 'RJF', 'FTV', 'LVS', 'FCX', 'NOW', 'ACGL', 'REG', 'EVRG', 'WAB', 'EQIX', 'PM', 'BR', 'NVDA', 'EPAM', 'MOS', 'COO', 'MTCH', 'DLR', 'WFC', 'EIX', 'CCI', 'WRB', 'GEV']: JSONDecodeError('Expecting value: line 1 column 1 (char 0)')\n",
      "['ON']: JS%ticker%DecodeError('Expecting value: line 1 column 1 (char 0)')\n"
     ]
    }
   ],
   "source": [
    "# Define the start and end dates\n",
    "start_date = '2000-01-01'\n",
    "end_date = '2024-12-20'\n",
    "\n",
    "# Download historical prices with adjusted close prices\n",
    "historical_prices = yf.download(\n",
    "    sp500_tickers,\n",
    "    start=start_date,\n",
    "    end=end_date,\n",
    "    auto_adjust=False,  # Desativa o ajuste automático para incluir 'Adj Close'\n",
    "    actions=False       # Remove colunas de dividendos e splits se não forem necessárias\n",
    ")"
   ]
  },
  {
   "cell_type": "code",
   "execution_count": null,
   "id": "19e31da4-0064-4610-a66a-dbd8f15814d8",
   "metadata": {},
   "outputs": [],
   "source": [
    "historical_prices_test = historical_prices.loc[:, historical_prices.columns.get_level_values(0) == 'Adj Close']\n",
    "historical_prices_test.columns = historical_prices_test.columns.droplevel(0)\n",
    "historical_prices_test.head()"
   ]
  },
  {
   "cell_type": "code",
   "execution_count": null,
   "id": "4257b7a1-b511-49f3-aa97-9c6b316e5770",
   "metadata": {},
   "outputs": [],
   "source": [
    "MIN_REQUIRED_NUM_OBS_PER_TICKER = 100\n",
    "\n",
    "# Count non-missing values for each ticker\n",
    "ticker_counts = historical_prices_test.count()\n",
    "ticker_counts"
   ]
  },
  {
   "cell_type": "code",
   "execution_count": null,
   "id": "6376af8d-620d-4bab-a331-39344cfdfc95",
   "metadata": {},
   "outputs": [],
   "source": [
    "# Filter out tickers with fewer than n = MIN... = 100 non-missing values\n",
    "valid_tickers_mask = ticker_counts[ticker_counts >= MIN_REQUIRED_NUM_OBS_PER_TICKER].index\n",
    "\n",
    "# Filter the DF based on valid tickers\n",
    "historical_prices_test = historical_prices_test[valid_tickers_mask]"
   ]
  },
  {
   "cell_type": "code",
   "execution_count": null,
   "id": "919d107a-802d-492c-8277-a6dbfc3c0851",
   "metadata": {},
   "outputs": [],
   "source": [
    "historical_prices_test.head()"
   ]
  },
  {
   "cell_type": "code",
   "execution_count": 1,
   "id": "5eca4ab9-a358-4e10-842c-42d813d21dfa",
   "metadata": {},
   "outputs": [],
   "source": [
    "import sys\n",
    "import os\n",
    "# Manually set the path relative to the py file's location that you want to import\n",
    "func_lib_path = os.path.abspath(os.path.join(os.getcwd(),'../'))\n",
    "\n",
    "# Add the path to sys.path\n",
    "sys.path.append(func_lib_path)\n",
    "\n",
    "# Now you can import func_lib\n",
    "import func_lib"
   ]
  },
  {
   "cell_type": "code",
   "execution_count": 3,
   "id": "9643f954-35d7-4745-963c-ccad97a3854b",
   "metadata": {},
   "outputs": [
    {
     "name": "stderr",
     "output_type": "stream",
     "text": [
      "\n",
      "500 Failed downloads:\n",
      "['MAA', 'CTSH', 'LULU', 'EW', 'APTV', 'HRL', 'ELV', 'KDP', 'VMC', 'BRO', 'TT', 'SYF', 'TYL', 'ALL', 'MAS', 'CNP', 'NVDA', 'WYNN', 'ES', 'AIG', 'FRT', 'SPG', 'SPGI', 'CHD', 'CMCSA', 'SBAC', 'DAY', 'TRMB', 'TFX', 'NI', 'CAH', 'ARE', 'MSCI', 'TSLA', 'FICO', 'JBHT', 'OTIS', 'BLDR', 'PCG', 'WAB', 'PPL', 'ADBE', 'WELL', 'REGN', 'CFG', 'MCD', 'ABNB', 'CINF', 'T', 'MNST', 'WMB', 'FDX', 'TAP', 'A', 'CHTR', 'FITB', 'NOW', 'MLM', 'MU', 'ANET', 'GOOG', 'TXN', 'AME', 'DOC', 'UBER', 'DHR', 'IEX', 'GWW', 'ORLY', 'BSX', 'TER', 'ALLE', 'IRM', 'GL', 'FFIV', 'NFLX', 'INCY', 'STLD', 'FI', 'CBOE', 'GOOGL', 'NKE', 'LLY', 'GEN', 'ISRG', 'MGM', 'STE', 'APH', 'PG', 'UHS', 'V', 'DOV', 'LDOS', 'AOS', 'RJF', 'ICE', 'TSCO', 'ERIE', 'HUM', 'NOC', 'HAS', 'ATO', 'BEN', 'CPRT', 'HWM', 'EXC', 'PHM', 'MCHP', 'TJX', 'CTVA', 'CMI', 'DFS', 'DIS', 'RCL', 'VICI', 'HII', 'FE', 'GD', 'HSIC', 'ODFL', 'EG', 'WEC', 'VZ', 'HD', 'CARR', 'ACN', 'KVUE', 'CNC', 'ITW', 'CEG', 'SJM', 'GPN', 'USB', 'EPAM', 'TPL', 'JNPR', 'FDS', 'SNA', 'BR', 'FOX', 'MOH', 'CZR', 'XEL', 'EBAY', 'TGT', 'BKNG', 'GPC', 'WMT', 'CMS', 'FTV', 'NTRS', 'COR', 'PSX', 'AZO', 'WTW', 'KIM', 'JPM', 'DD', 'PKG', 'MTD', 'MPC', 'TTWO', 'WFC', 'VRSN', 'CB', 'LVS', 'KEYS', 'ANSS', 'LEN', 'IT', 'DVN', 'MMM', 'AXP', 'HBAN', 'HUBB', 'SWKS', 'PODD', 'GEV', 'ED', 'TMUS', 'HSY', 'PYPL', 'PEP', 'QCOM', 'HOLX', 'ABT', 'CI', 'CLX', 'CSX', 'PNW', 'IPG', 'CE', 'META', 'OKE', 'DXCM', 'ZBRA', 'UNP', 'ADP', 'CVX', 'MCK', 'ENPH', 'TDG', 'IDXX', 'JBL', 'CRL', 'UDR', 'WAT', 'AMZN', 'DRI', 'EXPD', 'RF', 'ULTA', 'NTAP', 'HON', 'DG', 'BG', 'GEHC', 'HPE', 'KEY', 'AVY', 'BAC', 'CPB', 'OMC', 'EVRG', 'MET', 'PAYC', 'KHC', 'GLW', 'EOG', 'REG', 'POOL', 'SHW', 'COP', 'INTU', 'GIS', 'CHRW', 'KLAC', 'SYK', 'LH', 'PSA', 'TFC', 'EL', 'BDX', 'SLB', 'TXT', 'BAX', 'TECH', 'WBD', 'HAL', 'VTR', 'PM', 'HCA', 'SYY', 'PFG', 'COF', 'AMT', 'IBM', 'JKHY', 'PFE', 'AON', 'BMY', 'LUV', 'SOLV', 'MDLZ', 'EQT', 'ADI', 'LW', 'STX', 'MSFT', 'INVH', 'AMTM', 'TMO', 'IQV', 'MAR', 'AWK', 'LRCX', 'APA', 'PANW', 'AMCR', 'LNT', 'VST', 'BBY', 'DELL', 'WY', 'GDDY', 'L', 'UNH', 'ADSK', 'PLTR', 'IVZ', 'MTB', 'GM', 'BALL', 'SMCI', 'WBA', 'BX', 'AIZ', 'AVGO', 'LYB', 'GE', 'MS', 'KMB', 'AFL', 'AMD', 'SW', 'ETN', 'RSG', 'CVS', 'RL', 'RTX', 'EIX', 'BWA', 'PARA', 'IP', 'DUK', 'CBRE', 'UPS', 'CRM', 'FTNT', 'CSCO', 'MO', 'DTE', 'DE', 'NEM', 'ROP', 'HST', 'CF', 'PLD', 'SRE', 'FAST', 'XYL', 'URI', 'FOXA', 'NCLH', 'KR', 'MRNA', 'EFX', 'MKC', 'FCX', 'ZTS', 'TRGP', 'ETR', 'MHK', 'HLT', 'DAL', 'CL', 'PRU', 'UAL', 'NDAQ', 'CCL', 'ACGL', 'BLK', 'DPZ', 'AEE', 'JCI', 'CDW', 'MCO', 'ALB', 'HIG', 'PNR', 'TSN', 'MOS', 'SWK', 'GRMN', 'HPQ', 'COO', 'DLTR', 'CMG', 'EQIX', 'CRWD', 'KMX', 'C', 'DHI', 'DOW', 'MRK', 'WST', 'QRVO', 'WRB', 'AMP', 'ESS', 'RMD', 'GILD', 'JNJ', 'AJG', 'PCAR', 'FANG', 'SCHW', 'BA', 'FIS', 'HES', 'MMC', 'TROW', 'PH', 'RVTY', 'NXPI', 'EMR', 'XOM', 'VRSK', 'ROL', 'AVB', 'NRG', 'APD', 'MDT', 'K', 'AXON', 'CAT', 'IR', 'AES', 'PAYX', 'NVR', 'CPAY', 'LMT', 'KO', 'TRV', 'FSLR', 'NSC', 'ORCL', 'ADM', 'OXY', 'EA', 'EMN', 'STZ', 'WDC', 'CCI', 'VTRS', 'LOW', 'CPT', 'AMAT', 'LHX', 'STT', 'LYV', 'MSI', 'CSGP', 'LIN', 'ECL', 'BXP', 'WM', 'F', 'INTC', 'AAPL', 'PGR', 'BIIB', 'CAG', 'ROST', 'COST', 'BKR', 'LKQ', 'MTCH', 'NUE', 'DGX', 'VLO', 'MPWR', 'EQR', 'AMGN', 'PPG', 'MA', 'FMC', 'GNRC', 'PTC', 'NDSN', 'AKAM', 'SBUX', 'TEL', 'DECK', 'MKTX', 'GS', 'ABBV', 'IFF', 'AEP', 'CDNS', 'ZBH', 'KKR', 'NWSA', 'NWS', 'PNC', 'EXR', 'VRTX', 'YUM', 'CME', 'TDY', 'PEG', 'VLTO', 'KMI', 'BK', 'CTAS', 'CTRA', 'ALGN', 'EXPE', 'PWR', 'SNPS', 'DLR', 'DVA', 'NEE', 'ROK', 'TPR']: JSONDecodeError('Expecting value: line 1 column 1 (char 0)')\n",
      "['D']: JSON%ticker%ecodeError('Expecting value: line 1 column 1 (char 0)')\n",
      "['J']: %ticker%SONDecodeError('Expecting value: line 1 column 1 (char 0)')\n",
      "['O']: JS%ticker%NDecodeError('Expecting value: line 1 column 1 (char 0)')\n",
      "['SO']: J%ticker%NDecodeError('Expecting value: line 1 column 1 (char 0)')\n",
      "['ON']: JS%ticker%DecodeError('Expecting value: line 1 column 1 (char 0)')\n"
     ]
    },
    {
     "data": {
      "text/html": [
       "<div>\n",
       "<style scoped>\n",
       "    .dataframe tbody tr th:only-of-type {\n",
       "        vertical-align: middle;\n",
       "    }\n",
       "\n",
       "    .dataframe tbody tr th {\n",
       "        vertical-align: top;\n",
       "    }\n",
       "\n",
       "    .dataframe thead th {\n",
       "        text-align: right;\n",
       "    }\n",
       "</style>\n",
       "<table border=\"1\" class=\"dataframe\">\n",
       "  <thead>\n",
       "    <tr style=\"text-align: right;\">\n",
       "      <th>Ticker</th>\n",
       "    </tr>\n",
       "    <tr>\n",
       "      <th>Date</th>\n",
       "    </tr>\n",
       "  </thead>\n",
       "  <tbody>\n",
       "  </tbody>\n",
       "</table>\n",
       "</div>"
      ],
      "text/plain": [
       "Empty DataFrame\n",
       "Columns: []\n",
       "Index: []"
      ]
     },
     "execution_count": 3,
     "metadata": {},
     "output_type": "execute_result"
    }
   ],
   "source": [
    "historical_prices = func_lib.create_hist_prices('2000-01-01', '2024-12-20')\n",
    "historical_prices.head()"
   ]
  }
 ],
 "metadata": {
  "kernelspec": {
   "display_name": "Python 3 (ipykernel)",
   "language": "python",
   "name": "python3"
  },
  "language_info": {
   "codemirror_mode": {
    "name": "ipython",
    "version": 3
   },
   "file_extension": ".py",
   "mimetype": "text/x-python",
   "name": "python",
   "nbconvert_exporter": "python",
   "pygments_lexer": "ipython3",
   "version": "3.10.12"
  }
 },
 "nbformat": 4,
 "nbformat_minor": 5
}
